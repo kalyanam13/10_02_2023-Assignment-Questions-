{
 "cells": [
  {
   "cell_type": "markdown",
   "id": "65dfc581",
   "metadata": {},
   "source": [
    "# OOPs ASSIGNMENT \n"
   ]
  },
  {
   "cell_type": "markdown",
   "id": "64a576ac",
   "metadata": {},
   "source": [
    "## ASSIGNMENT QUESTIONS"
   ]
  },
  {
   "cell_type": "markdown",
   "id": "356c134f",
   "metadata": {},
   "source": [
    "# Question no.1: Which function is used to open a file ? What are the different modes of opening a file ? Explain each mode of file opening.\n",
    "### Answer:In Python, the open() function is used to open a file. It takes two parameters: the name of the file to be opened and the mode in which the file is to be opened.\n",
    "\n",
    "### The different modes of opening a file are:\n",
    "\n",
    "### 'r': read mode - opens a file for reading. If the file does not exist, it will raise a FileNotFoundError error.\n",
    "\n",
    "### 'w': write mode - opens a file for writing. If the file does not exist, it will create a new file. If the file already exists, it will overwrite the existing file.\n",
    "\n",
    "### 'a': append mode - opens a file for appending data to the end of the file. If the file does not exist, it will create a new file.\n",
    "\n",
    "### 'x': exclusive mode - opens a file for writing, but only if the file does not already exist. If the file exists, it will raise a FileExistsError error.\n",
    "\n",
    "### 'b': binary mode - opens a file in binary mode.\n",
    "\n",
    "### 't': text mode - opens a file in text mode. This is the default mode.\n",
    "\n",
    "### '+': read and write mode - opens a file for both reading and writing.\n",
    "\n",
    "### The modes can be combined by using them together. For example, 'rb' opens a file in binary mode for reading, and 'w+' opens a file for both reading and writing, and overwrites the existing file.\n",
    "\n",
    "### Here's an example of how to open a file in read mode:\n",
    "## file = open('example.txt', 'r')\n",
    "### This will open the file named example.txt in read mode.\n",
    "\n",
    "### Here's an example of how to open a file in write mode:\n",
    "## file = open('example.txt', 'w')\n",
    "### This will open the file named example.txt in write mode. If the file does not exist, it will be created. If it does exist, it will be truncated (emptied).\n",
    "\n",
    "### Here's an example of how to open a file in append mode:\n",
    "## file = open('example.txt', 'a')\n",
    "### This will open the file named example.txt in append mode. If the file does not exist, it will be created.\n",
    "\n",
    "### Here's an example of how to open a file in exclusive mode:\n",
    "## file = open('example.txt', 'x')\n",
    "### This will open the file named example.txt in exclusive mode. If the file already exists, it will raise a FileExistsError error.\n",
    "\n",
    "### Here's an example of how to open a file in binary mode:\n",
    "## file = open('example.txt', 'rb')\n",
    "### This will open the file named example.txt in binary mode for reading.\n",
    "\n",
    "### Here's an example of how to open a file in text mode:\n",
    "## file = open('example.txt', 'rt')\n",
    "### This will open the file named example.txt in text mode for reading."
   ]
  },
  {
   "cell_type": "markdown",
   "id": "9a1b68bd",
   "metadata": {},
   "source": [
    "# Question no.2: Why close() function is used ? Why is it important to close a file ?\n",
    "### Answer: The close() function is used in Python to close a file that was previously opened using the open() function. It is important to close a file after you have finished reading from or writing to it for several reasons:\n",
    "\n",
    "### Release resources: When a file is opened, the operating system allocates certain resources to it, such as memory and file handles. If you don't close the file after you're done using it, those resources will remain allocated until the program terminates, potentially leading to resource exhaustion and reduced system performance.\n",
    "\n",
    "### Data integrity: If you don't close the file after you've finished writing to it, there is a risk that not all the data you wrote will be flushed to disk. This can lead to data loss or corruption, especially in the event of a power failure or system crash.\n",
    "\n",
    "### Security: If you don't close the file, it may be possible for another process or user to read from or write to the file while your program is still running, potentially leading to data leakage or other security vulnerabilities.\n",
    "\n",
    "### To close a file in Python, simply call the close() method on the file object, like this:\n",
    "\n",
    "## file = open('example.txt', 'r')\n",
    "###  ###Do some operations on the file\n",
    "## file.close()\n",
    "### It's good practice to always close files that you open in your code, to avoid any potential issues with resource leaks or data corruption. Alternatively, you can use the with statement to automatically close the file when the block is exited:\n",
    "\n",
    "## with open('example.txt', 'r') as file:\n",
    "   ###  #Do some operations on the file\n",
    "  ###  #File is automatically closed when block is exited\n",
    "### This way, even if there is an exception or error in your code, the file will still be properly closed."
   ]
  },
  {
   "cell_type": "markdown",
   "id": "4e7e098f",
   "metadata": {},
   "source": [
    "# Question no.3: Write a python program to create a text file. Write 'I want to become a data scientist' in that file. Then close the file. Open this file and read the content of the file.\n",
    "# Answer:"
   ]
  },
  {
   "cell_type": "code",
   "execution_count": 4,
   "id": "2992aab5",
   "metadata": {},
   "outputs": [],
   "source": [
    "with open(\"file.txt\",\"w\") as file:\n",
    "    file.write(\"I want to become a data scientist.\")"
   ]
  },
  {
   "cell_type": "code",
   "execution_count": 6,
   "id": "7ef26ac7",
   "metadata": {},
   "outputs": [
    {
     "name": "stdout",
     "output_type": "stream",
     "text": [
      "I want to become a data scientist.\n"
     ]
    }
   ],
   "source": [
    "with open(\"file.txt\",\"r\") as file:\n",
    "    content = file.read()\n",
    "    print(content)"
   ]
  },
  {
   "cell_type": "markdown",
   "id": "3d9a6929",
   "metadata": {},
   "source": [
    "# Question no.4: Explain the following with python code:read(), readline() and readlines().\n",
    "### Answer:"
   ]
  },
  {
   "cell_type": "code",
   "execution_count": 11,
   "id": "a19dcb7c",
   "metadata": {},
   "outputs": [],
   "source": [
    "with open(\"example.txt\",\"w\") as file:\n",
    "    file.write(\"Data science is the study of data to extract meaningful insights for business\\n *It is a multidisciplinary approach that combines principles and practices from the fields of mathematics, statistics, artificial intelligence, and computer engineering to analyze large amounts of data\\n** This analysis helps data scientists to ask and answer questions like what happened, why it happened, what will happen, and what can be done with the results.\")"
   ]
  },
  {
   "cell_type": "markdown",
   "id": "294ab119",
   "metadata": {},
   "source": [
    "### In Python, there are several methods for reading data from a file. The most commonly used methods are read(), readline(), and readlines(). Here's a brief explanation of each method with sample Python code:\n",
    "\n",
    "### 1. read(): This method reads the entire contents of a file into a single string, starting from the current file position."
   ]
  },
  {
   "cell_type": "code",
   "execution_count": 12,
   "id": "7d693a7d",
   "metadata": {},
   "outputs": [
    {
     "name": "stdout",
     "output_type": "stream",
     "text": [
      "Data science is the study of data to extract meaningful insights for business\n",
      " *It is a multidisciplinary approach that combines principles and practices from the fields of mathematics, statistics, artificial intelligence, and computer engineering to analyze large amounts of data\n",
      "** This analysis helps data scientists to ask and answer questions like what happened, why it happened, what will happen, and what can be done with the results.\n"
     ]
    }
   ],
   "source": [
    "with open(\"example.txt\",\"r\") as file:\n",
    "    content = file.read()\n",
    "    print(content)"
   ]
  },
  {
   "cell_type": "markdown",
   "id": "d9bb2dd7",
   "metadata": {},
   "source": [
    "### In this code, we first use the with statement to open a file named example.txt in read mode. We then use the read() method to read the entire contents of the file and assign it to the variable content. Finally, we print the contents of the file to the console.\n",
    "\n",
    "### 2. readline(): This method reads a single line from a file and returns it as a string. Subsequent calls to readline() will return the next line, and so on."
   ]
  },
  {
   "cell_type": "code",
   "execution_count": 13,
   "id": "5ca201ba",
   "metadata": {},
   "outputs": [
    {
     "name": "stdout",
     "output_type": "stream",
     "text": [
      "Data science is the study of data to extract meaningful insights for business\n",
      "\n",
      " *It is a multidisciplinary approach that combines principles and practices from the fields of mathematics, statistics, artificial intelligence, and computer engineering to analyze large amounts of data\n",
      "\n"
     ]
    }
   ],
   "source": [
    "with open(\"example.txt\",\"r\") as file:\n",
    "    line1 = file.readline()\n",
    "    line2 = file.readline()\n",
    "print(line1)\n",
    "print(line2)"
   ]
  },
  {
   "cell_type": "markdown",
   "id": "28b105ee",
   "metadata": {},
   "source": [
    "### In this code, we first use the with statement to open a file named example.txt in read mode. We then use the read() method to read the entire contents of the file and assign it to the variable content. Finally, we print the contents of the file to the console.\n",
    "\n",
    "### 3. readline(): This method reads a single line from a file and returns it as a string. Subsequent calls to readline() will return the next line, and so on."
   ]
  },
  {
   "cell_type": "code",
   "execution_count": 15,
   "id": "317cf83c",
   "metadata": {},
   "outputs": [
    {
     "name": "stdout",
     "output_type": "stream",
     "text": [
      "['Data science is the study of data to extract meaningful insights for business\\n', ' *It is a multidisciplinary approach that combines principles and practices from the fields of mathematics, statistics, artificial intelligence, and computer engineering to analyze large amounts of data\\n', '** This analysis helps data scientists to ask and answer questions like what happened, why it happened, what will happen, and what can be done with the results.']\n"
     ]
    }
   ],
   "source": [
    "with open(\"example.txt\",\"r\") as file:\n",
    "    lines = file.readlines()\n",
    "    print(lines)"
   ]
  },
  {
   "cell_type": "code",
   "execution_count": 16,
   "id": "a4dc343a",
   "metadata": {},
   "outputs": [
    {
     "name": "stdout",
     "output_type": "stream",
     "text": [
      "Data science is the study of data to extract meaningful insights for business\n",
      "\n",
      " *It is a multidisciplinary approach that combines principles and practices from the fields of mathematics, statistics, artificial intelligence, and computer engineering to analyze large amounts of data\n",
      "\n",
      "** This analysis helps data scientists to ask and answer questions like what happened, why it happened, what will happen, and what can be done with the results.\n"
     ]
    }
   ],
   "source": [
    "with open(\"example.txt\",\"r\") as file:\n",
    "    lines = file.readlines()\n",
    "    for line in lines:\n",
    "        print(line)"
   ]
  },
  {
   "cell_type": "markdown",
   "id": "e35300d7",
   "metadata": {},
   "source": [
    "### In this code, we first use the with statement to open a file named example.txt in read mode. We then use the readlines() method to read all the lines of the file and assign them to the variable lines. Finally, we use a for loop to iterate over each line in the list and print it to the console.\n",
    "\n",
    "### These methods can be used to read data from a file in different ways, depending on the requirements of your program."
   ]
  },
  {
   "cell_type": "markdown",
   "id": "5e6d1b7a",
   "metadata": {},
   "source": [
    "# Question no.5: Explain why with statement is used with open(). What is the advantage of using with statement and open() together ?\n",
    "### Answer:The with statement is used with the open() function in Python to ensure that the file is properly closed after it has been used. When you open a file in Python using the open() function, it creates a file object that provides access to the file's contents. However, you need to make sure that the file is properly closed after you have finished using it, to free up any system resources that it may be holding.\n",
    "\n",
    "### The with statement provides a way to do this automatically. When you use with statement with open(), the file is automatically closed when the block of code inside the with statement is exited, whether normally or due to an exception. This makes your code more concise and also ensures that the file is always closed properly, even if an error occurs while working with the file.\n",
    "\n",
    "###  Here is an example of using with statement with open():"
   ]
  },
  {
   "cell_type": "code",
   "execution_count": 17,
   "id": "769528c1",
   "metadata": {},
   "outputs": [
    {
     "name": "stdout",
     "output_type": "stream",
     "text": [
      "Data science is the study of data to extract meaningful insights for business\n",
      " *It is a multidisciplinary approach that combines principles and practices from the fields of mathematics, statistics, artificial intelligence, and computer engineering to analyze large amounts of data\n",
      "** This analysis helps data scientists to ask and answer questions like what happened, why it happened, what will happen, and what can be done with the results.\n"
     ]
    }
   ],
   "source": [
    "with open(\"example.txt\",\"r\") as file:\n",
    "    content = file.read()\n",
    "    print(content)"
   ]
  },
  {
   "cell_type": "markdown",
   "id": "b5f9616b",
   "metadata": {},
   "source": [
    "### In this example, we open a file named \"myfile.txt\" in read mode using open(). We then use the with statement to ensure that the file is properly closed after we have finished using it. Within the block of the with statement, we read the contents of the file and print them to the console.\n",
    "\n",
    "### The advantage of using with statement with open() is that it ensures that the file is always properly closed, even if an error occurs while working with the file. This makes your code more robust and reliable, and reduces the risk of file corruption or data loss. Additionally, the with statement makes your code more readable and concise by reducing the amount of boilerplate code needed to manage file I/O."
   ]
  },
  {
   "cell_type": "markdown",
   "id": "acfe91f0",
   "metadata": {},
   "source": [
    "# Question no.6: Explain the write() and writelines() functions. Give a suitable example.\n",
    "### Answer: In Python, write() and writelines() are functions that are used to write data to a file. Here's a brief explanation of each function with an example:\n",
    "\n",
    "### 1. write(): This function is used to write a single string of data to a file. If the file does not exist, it will be created. If the file does exist, its contents will be overwritten."
   ]
  },
  {
   "cell_type": "code",
   "execution_count": 20,
   "id": "6bfc8eb6",
   "metadata": {},
   "outputs": [],
   "source": [
    "with open(\"example._txt\",\"w\") as file:\n",
    "    file.write(\"Hello World.\\n\")\n",
    "    file.write(\"How are you ?\\n\")"
   ]
  },
  {
   "cell_type": "markdown",
   "id": "642e0acb",
   "metadata": {},
   "source": [
    "### In this code, we first use the with statement to open a file named example.txt in write mode. We then use the write() function twice to write two strings of data to the file. The \\n character at the end of each string is used to insert a newline after each line. Finally, we close the file.\n",
    "\n",
    "### When we run this code, it will create a new file named example.txt in the current directory (if it doesn't already exist), and write the two lines of text to the file.\n",
    "\n",
    "### 2. writelines(): This function is used to write a list of strings of data to a file. Each string in the list will be written to a separate line in the file."
   ]
  },
  {
   "cell_type": "code",
   "execution_count": 19,
   "id": "2a1f0a93",
   "metadata": {},
   "outputs": [],
   "source": [
    "lines = [\"Hello World!\\n\",\"How are you ?\\n\",\"I hope you are good.\\n\"]\n",
    "with open(\"example.txt_1\",\"w\") as file:\n",
    "    file.writelines(lines)"
   ]
  },
  {
   "cell_type": "markdown",
   "id": "406a771b",
   "metadata": {},
   "source": [
    "### In this code, we first create a list of strings called lines. We then use the with statement to open a file named example.txt in write mode. We use the writelines() function to write the contents of the lines list to the file. Finally, we close the file.\n",
    "\n",
    "### When we run this code, it will create a new file named example.txt in the current directory (if it doesn't already exist), and write the three lines of text to the file.\n",
    "\n",
    "### Both write() and writelines() functions are useful for writing data to a file in Python. The choice between them depends on the specific requirements of your program. If you have a single string that you want to write to a file, use write(). If you have a list of strings that you want to write to a file, use writelines()."
   ]
  },
  {
   "cell_type": "code",
   "execution_count": null,
   "id": "f38ae9e9",
   "metadata": {},
   "outputs": [],
   "source": []
  }
 ],
 "metadata": {
  "kernelspec": {
   "display_name": "Python 3 (ipykernel)",
   "language": "python",
   "name": "python3"
  },
  "language_info": {
   "codemirror_mode": {
    "name": "ipython",
    "version": 3
   },
   "file_extension": ".py",
   "mimetype": "text/x-python",
   "name": "python",
   "nbconvert_exporter": "python",
   "pygments_lexer": "ipython3",
   "version": "3.9.13"
  }
 },
 "nbformat": 4,
 "nbformat_minor": 5
}
